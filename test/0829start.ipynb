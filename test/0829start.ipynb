{
 "cells": [
  {
   "cell_type": "code",
   "execution_count": 1,
   "metadata": {},
   "outputs": [
    {
     "name": "stdout",
     "output_type": "stream",
     "text": [
      "26 - 2진수: 11010\n",
      "26 - 16진수: 1A\n"
     ]
    }
   ],
   "source": [
    "# 2진수로 변환\n",
    "def decimal_to_binary(n):\n",
    "    binary_number = \"\"\n",
    "\n",
    "    if n == 0:\n",
    "        return \"0\"\n",
    "\n",
    "    # 0보다 클 때까지 2로 나누면서 나머지를 정답에 추가\n",
    "    while n > 0:\n",
    "        remainder = n % 2\n",
    "        binary_number = str(remainder) + binary_number\n",
    "        n = n // 2\n",
    "\n",
    "    return binary_number\n",
    "\n",
    "\n",
    "# 16진수로 변환\n",
    "def decimal_to_hexadecimal(n):\n",
    "    hex_digits = \"0123456789ABCDEF\"\n",
    "    hexadecimal_number = \"\"\n",
    "\n",
    "    if n == 0:\n",
    "        return \"0\"\n",
    "\n",
    "    # 0보다 클 때까지 16으로 나누면서 나머지를 정답에 추가\n",
    "    while n > 0:\n",
    "        remainder = n % 16\n",
    "        hexadecimal_number = hex_digits[remainder] + hexadecimal_number\n",
    "        n = n // 16\n",
    "\n",
    "    return hexadecimal_number\n",
    "\n",
    "\n",
    "# 예시: 10진수를 2진수와 16진수로 변환\n",
    "decimal_num = 26\n",
    "binary_num = decimal_to_binary(decimal_num)\n",
    "hex_num = decimal_to_hexadecimal(decimal_num)\n",
    "\n",
    "print(f\"{decimal_num} - 2진수: {binary_num}\")\n",
    "print(f\"{decimal_num} - 16진수: {hex_num}\")\n"
   ]
  },
  {
   "cell_type": "code",
   "execution_count": 2,
   "metadata": {},
   "outputs": [
    {
     "name": "stdout",
     "output_type": "stream",
     "text": [
      "[5, 6, 7, 8, 0, 0, 0]\n",
      "[0, 0, 0, 2, 3, 4, 5]\n"
     ]
    }
   ],
   "source": [
    "arr1 = [0] * 7\n",
    "arr2 = [0] * 7\n",
    "\n",
    "N = 5\n",
    "\n",
    "for i in range(4):\n",
    "    arr1[i] = N + i\n",
    "    arr2[-1 - i] = N - i\n",
    "\n",
    "print(arr1)\n",
    "print(arr2)"
   ]
  },
  {
   "cell_type": "code",
   "execution_count": 11,
   "metadata": {},
   "outputs": [
    {
     "name": "stdout",
     "output_type": "stream",
     "text": [
      "['111'] 0 3 [1]\n",
      "['0101010'] 0 7 [1, 1, 1]\n",
      "['101'] 0 3 [0]\n",
      "[1, 1, 0]\n"
     ]
    }
   ],
   "source": [
    "\n",
    "numbers = [7,42,5]\n",
    "\n",
    "def solution(numbers):\n",
    "    answer = []\n",
    "    dict_num = [1,3,7,15,31,63]\n",
    "\n",
    "    for t in numbers:\n",
    "        result_num = []\n",
    "        a = bin(t)\n",
    "        real_num = a[2:]\n",
    "        temp = 0\n",
    "\n",
    "        def find(real_num):\n",
    "            for j in dict_num:\n",
    "                if len(real_num) <= j:\n",
    "                    temp = j - len(real_num)\n",
    "                    real_num = '0' * temp + real_num\n",
    "                    result_num.append(real_num)\n",
    "                    return temp, real_num\n",
    "                \n",
    "        find(real_num)\n",
    "\n",
    "        ##조건이 되는 부모인지 확인.\n",
    "        result = []\n",
    "        len_rn = len(result_num[0])\n",
    "        #아 이거 뭔데 진짜\n",
    "        for i in range(1, len_rn, 2):\n",
    "            if result_num[0][i] == '1' and i >= temp:\n",
    "                result.append(1)\n",
    "            elif result_num[0][i] == '0' and i >= temp:\n",
    "                result.append(0)\n",
    "\n",
    "        print(result_num, temp, len_rn, result)\n",
    "\n",
    "        if 0 in result:\n",
    "            answer.append(0)\n",
    "        else:\n",
    "            answer.append(1)\n",
    "\n",
    "    return answer\n",
    "\n",
    "\n",
    "\n",
    "print(solution(numbers))"
   ]
  },
  {
   "cell_type": "code",
   "execution_count": 7,
   "metadata": {},
   "outputs": [
    {
     "name": "stdout",
     "output_type": "stream",
     "text": [
      "['111'] 0 3 [1]\n",
      "1\n",
      "['0101010'] 1 7 [1, 1, 1]\n",
      "1\n",
      "['101'] 0 3 [0]\n",
      "1\n",
      "['0001011'] 3 7 [1, 1]\n",
      "1\n"
     ]
    }
   ],
   "source": [
    "def solution(num, t):\n",
    "    # dumynum_dict = {1: '0', 3: '000', 7: '0000000', 15: '000000000000000',\n",
    "    #                 31: '0000000000000000000000000000000',\n",
    "    #                 63: '000000000000000000000000000000000000000000000000000000000000000'}\n",
    "    dict_num = [1,3,7,15,31,63]\n",
    "\n",
    "    result_num = []\n",
    "    a = bin(num[t])\n",
    "    real_num = a[2:]\n",
    "    temp = 0\n",
    "\n",
    "    for j in dict_num:\n",
    "        if len(real_num) <= j:\n",
    "            temp = j - len(real_num)\n",
    "            real_num = '0' * temp + real_num\n",
    "            result_num.append(real_num)\n",
    "            break\n",
    "\n",
    "    ##조건이 되는 부모인지 확인.\n",
    "    result = []\n",
    "    len_rn = len(result_num[0])\n",
    "    #아 이거 뭔데 진짜\n",
    "    for i in range(1, len_rn, 2):\n",
    "        if result_num[0][i] == '1' and i >= temp:\n",
    "            result.append(1)\n",
    "        elif result_num[0][i] == '0' and i >= temp:\n",
    "            result.append(0)\n",
    "\n",
    "    print(result_num, temp, len_rn, result)\n",
    "\n",
    "    if 0 in result[1:]:\n",
    "        print(0)\n",
    "    else:\n",
    "        print(1)\n",
    "\n",
    "\n",
    "if __name__ == '__main__':\n",
    "    num = [7, 42, 5, 11]\n",
    "    for t in range(len(num)):\n",
    "        solution(num, t)"
   ]
  },
  {
   "cell_type": "code",
   "execution_count": 29,
   "metadata": {},
   "outputs": [
    {
     "name": "stdout",
     "output_type": "stream",
     "text": [
      "[1, 1, 0]\n"
     ]
    }
   ],
   "source": [
    "numbers = [24, 26, 27, 30, 31, 32, 34, 35, 96, 98, 99] #반ㄹㅖ 전부 0이어야하는데 1이 나옴\n",
    "def solution(numbers):\n",
    "    answer = []\n",
    "    dict_num = [1,3,7,15,31,63]\n",
    "\n",
    "    for t in numbers:\n",
    "        result_num = []\n",
    "        a = bin(t)\n",
    "        real_num = a[2:]\n",
    "        temp = 0\n",
    "\n",
    "        def find(real_num,temp):\n",
    "            for j in dict_num:\n",
    "                if len(real_num) <= j:\n",
    "                    temp = j - len(real_num)\n",
    "                    real_num = '0' * temp + real_num\n",
    "                    result_num.append(real_num)\n",
    "                    return temp, real_num\n",
    "                \n",
    "        temp, real_num = find(real_num, temp)\n",
    "\n",
    "        ##조건이 되는 부모인지 확인.\n",
    "        result = []\n",
    "        len_rn = len(result_num[0])\n",
    "        #아 이거 뭔데 진짜\n",
    "        for i in range(1, len_rn, 2):\n",
    "            if result_num[0][i] == '1' and i >= temp:\n",
    "                result.append(1)\n",
    "            #더미 수 이상의 범위이면서 부모가 0이지만 자식도 0인 경우\n",
    "            elif result_num[0][i] == '0' and i >= temp: \n",
    "                if result_num[0][i+1] == '0' and result_num[0][i-1] == '0':\n",
    "                    result.append(1)\n",
    "                else:\n",
    "                    result.append(0)\n",
    "\n",
    "        if 0 in result:\n",
    "            answer.append(0)\n",
    "        else:\n",
    "            answer.append(1)\n",
    "            \n",
    "    print(result_num, temp, len_rn, result)\n",
    "    return answer\n",
    "\n",
    "\n",
    "print(solution(numbers))"
   ]
  },
  {
   "cell_type": "code",
   "execution_count": 21,
   "metadata": {},
   "outputs": [
    {
     "name": "stdout",
     "output_type": "stream",
     "text": [
      "0b10010100011 0b11001\n",
      "0b10010111011\n",
      "0b110100\n",
      "0b11\n",
      "1\n",
      "149\n",
      "-5\n",
      "-0b101\n",
      "0b100\n",
      "-7\n",
      "0.10000000000000000555\n"
     ]
    }
   ],
   "source": [
    "print(bin(0x4A3), bin(25))\n",
    "print(bin(0x4A3|25))\n",
    "\n",
    "print(bin(0b1101 << 2))\n",
    "print(bin(0b1101 >> 2))\n",
    "print(7 >> 2)\n",
    "print(598 >> 2)\n",
    "print(~4)\n",
    "print(bin(~4))\n",
    "print(bin(4))\n",
    "print(~6\n",
    "      )\n",
    "t= 0.1\n",
    "print(f'{t:.20f}')"
   ]
  },
  {
   "cell_type": "code",
   "execution_count": null,
   "metadata": {},
   "outputs": [],
   "source": [
    "# 2진수 반복문\n",
    "def solution():\n",
    "    tar = M\n",
    "    # 1비트씩 우측으로 옮기면서 같은 지 체크\n",
    "    for i in range(N):\n",
    "        if tar & 0x1 == 0:\n",
    "            return False\n",
    "        tar = tar >> 1\n",
    "    return True\n",
    "\n",
    "T = int(input())\n",
    "for tc in range(1, T + 1):\n",
    "    N, M = map(int, input().split())\n",
    "    result = solution()\n",
    "    if result:\n",
    "        print(f'#{tc} ON')\n",
    "    else:\n",
    "        print(f'#{tc} OFF')"
   ]
  },
  {
   "cell_type": "code",
   "execution_count": 23,
   "metadata": {},
   "outputs": [
    {
     "name": "stdout",
     "output_type": "stream",
     "text": [
      "#1 OFF\n"
     ]
    }
   ],
   "source": [
    "# 2진수 비트연산\n",
    "def solution():\n",
    "    mask = (1 << N) - 1\n",
    "    return (M & mask) == mask\n",
    "\n",
    "\n",
    "T = int(input())\n",
    "for tc in range(1, T + 1):\n",
    "    N, M = map(int, input().split())\n",
    "    result = solution()\n",
    "    if result:\n",
    "        print(f'#{tc} ON')\n",
    "    else:\n",
    "        print(f'#{tc} OFF')"
   ]
  }
 ],
 "metadata": {
  "kernelspec": {
   "display_name": "Python 3",
   "language": "python",
   "name": "python3"
  },
  "language_info": {
   "codemirror_mode": {
    "name": "ipython",
    "version": 3
   },
   "file_extension": ".py",
   "mimetype": "text/x-python",
   "name": "python",
   "nbconvert_exporter": "python",
   "pygments_lexer": "ipython3",
   "version": "3.9.13"
  }
 },
 "nbformat": 4,
 "nbformat_minor": 2
}
