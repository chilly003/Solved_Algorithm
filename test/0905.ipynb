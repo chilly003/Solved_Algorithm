{
 "cells": [
  {
   "cell_type": "code",
   "execution_count": 3,
   "metadata": {},
   "outputs": [
    {
     "name": "stdout",
     "output_type": "stream",
     "text": [
      "1 2 3 4\n",
      "1 2 4 3\n",
      "1 2 7\n",
      "1 3 2 4\n",
      "1 3 4 2\n",
      "1 3 6\n",
      "1 4 2 3\n",
      "1 4 3 2\n",
      "1 4 5\n",
      "1 5 4\n",
      "1 6 3\n",
      "1 7 2\n",
      "1 9\n",
      "2 1 3 4\n",
      "2 1 4 3\n",
      "2 1 7\n",
      "2 3 1 4\n",
      "2 3 4 1\n",
      "2 3 5\n",
      "2 4 1 3\n",
      "2 4 3 1\n",
      "2 5 3\n",
      "2 7 1\n",
      "2 8\n",
      "3 1 2 4\n",
      "3 1 4 2\n",
      "3 1 6\n",
      "3 2 1 4\n",
      "3 2 4 1\n",
      "3 2 5\n",
      "3 4 1 2\n",
      "3 4 2 1\n",
      "3 5 2\n",
      "3 6 1\n",
      "3 7\n",
      "4 1 2 3\n",
      "4 1 3 2\n",
      "4 1 5\n",
      "4 2 1 3\n",
      "4 2 3 1\n",
      "4 3 1 2\n",
      "4 3 2 1\n",
      "4 5 1\n",
      "4 6\n",
      "5 1 4\n",
      "5 2 3\n",
      "5 3 2\n",
      "5 4 1\n",
      "6 1 3\n",
      "6 3 1\n",
      "6 4\n",
      "7 1 2\n",
      "7 2 1\n",
      "7 3\n",
      "8 2\n",
      "9 1\n",
      "10\n"
     ]
    }
   ],
   "source": [
    "arr = [1,2,3,4,5,6,7,8,9,10]\n",
    "visited = []\n",
    "\n",
    "def recur(dd, summ):\n",
    "    \n",
    "    #종료 조건\n",
    "    if dd == len(arr):\n",
    "        return\n",
    "\n",
    "    #가지치기 이미 합이 10이 넘으면\n",
    "    if summ > 10 :\n",
    "        return\n",
    "    \n",
    "    #합이 10인 애들만 배출\n",
    "    if summ == 10:\n",
    "        print(*visited)\n",
    "        return\n",
    "\n",
    "    #부분집합 만들기\n",
    "    for i in range(len(arr)):\n",
    "        if arr[i] in visited: \n",
    "            continue\n",
    "        visited.append(arr[i])\n",
    "        recur(dd+1, summ + arr[i])\n",
    "        visited.pop()\n",
    "\n",
    "\n",
    "recur(0,0)"
   ]
  },
  {
   "cell_type": "code",
   "execution_count": 10,
   "metadata": {},
   "outputs": [
    {
     "name": "stdout",
     "output_type": "stream",
     "text": [
      "13.000000\n"
     ]
    }
   ],
   "source": [
    "a = 13\n",
    "print('%f'% a) # 13.000000"
   ]
  },
  {
   "cell_type": "code",
   "execution_count": 38,
   "metadata": {},
   "outputs": [
    {
     "name": "stdout",
     "output_type": "stream",
     "text": [
      "['f', 'f']\n",
      "[['1', '1', 't'], ['8', '8']]\n"
     ]
    }
   ],
   "source": [
    "a = [['f','f','t'],['8','8']]\n",
    "\n",
    "print(a[0][0:2])\n",
    "a[0][0:2] = '1'*2\n",
    "print(a)"
   ]
  },
  {
   "cell_type": "code",
   "execution_count": 45,
   "metadata": {},
   "outputs": [
    {
     "name": "stdout",
     "output_type": "stream",
     "text": [
      "6\n"
     ]
    }
   ],
   "source": [
    "a = [[1,2,3,4,5,6],[2,3,4,5,6],[2,5,4,6]]\n",
    "\n",
    "print(sum(a[0][0:3]))"
   ]
  }
 ],
 "metadata": {
  "kernelspec": {
   "display_name": "Python 3",
   "language": "python",
   "name": "python3"
  },
  "language_info": {
   "codemirror_mode": {
    "name": "ipython",
    "version": 3
   },
   "file_extension": ".py",
   "mimetype": "text/x-python",
   "name": "python",
   "nbconvert_exporter": "python",
   "pygments_lexer": "ipython3",
   "version": "3.9.13"
  }
 },
 "nbformat": 4,
 "nbformat_minor": 2
}
