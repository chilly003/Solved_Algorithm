{
 "cells": [
  {
   "cell_type": "code",
   "execution_count": 2,
   "metadata": {},
   "outputs": [
    {
     "name": "stdout",
     "output_type": "stream",
     "text": [
      "['A', 'B', 'C']\n",
      "['A', 'B', 'D']\n",
      "['A', 'B', 'E']\n",
      "['A', 'C', 'D']\n",
      "['A', 'C', 'E']\n",
      "['A', 'D', 'E']\n",
      "['B', 'C', 'D']\n",
      "['B', 'C', 'E']\n",
      "['B', 'D', 'E']\n",
      "['C', 'D', 'E']\n"
     ]
    }
   ],
   "source": [
    "arr = ['A','B','C','D','E']\n",
    "N = len(arr)\n",
    "R = 3\n",
    "path = [0]*R\n",
    "\n",
    "def comb(idx, start):\n",
    "    '''\n",
    "    주어진 배열에서 R개의 요소로 이루어진 모든 조합을 생성하는 재귀함수\n",
    "    \n",
    "    Args:\n",
    "        idx(int): 현재 선택 중인 요소의 인덱스 (0~R-1 까지)\n",
    "        start(int): 선택을 시작할 배열의 인덱스\n",
    "    '''\n",
    "    #종료 조건: R개를 모두 선택한 경우\n",
    "    if idx == R:\n",
    "        print(path)\n",
    "        return\n",
    "\n",
    "    #유도 부분\n",
    "    #주어진 배열 길이 넘어서 탐색하지 않게 조건 달아주었음.\n",
    "    for i in range(start, N-R+idx+1):\n",
    "        path[idx] = arr[i]\n",
    "        comb(idx+1, i+1)\n",
    "\n",
    "comb(0,0)"
   ]
  },
  {
   "cell_type": "code",
   "execution_count": 8,
   "metadata": {},
   "outputs": [
    {
     "name": "stdout",
     "output_type": "stream",
     "text": [
      "['A', 'B', 'C']\n",
      "['A', 'B', 'D']\n",
      "['A', 'B', 'E']\n",
      "['A', 'C', 'D']\n",
      "['A', 'C', 'E']\n",
      "['A', 'D', 'E']\n",
      "['B', 'C', 'D']\n",
      "['B', 'C', 'E']\n",
      "['B', 'D', 'E']\n",
      "['C', 'D', 'E']\n"
     ]
    }
   ],
   "source": [
    "arr = ['A','B','C','D','E']\n",
    "N = len(arr)\n",
    "R = 3\n",
    "\n",
    "def comb(idx, start):\n",
    "    #종료 조건: R개를 모두 선택한 경우\n",
    "    if idx == R:\n",
    "        print(arr[:R])\n",
    "        return\n",
    "\n",
    "    #유도 부분\n",
    "    #주어진 배열 길이 넘어서 탐색하지 않게 조건 달아주었음.\n",
    "    for i in range(start, N-R+idx+1):\n",
    "        arr[idx], arr[i] = arr[i], arr[idx]\n",
    "        comb(idx+1, i+1)\n",
    "        arr[idx],arr[i]= arr[i], arr[idx]\n",
    "\n",
    "comb(0,0)"
   ]
  },
  {
   "cell_type": "code",
   "execution_count": 3,
   "metadata": {},
   "outputs": [
    {
     "name": "stdout",
     "output_type": "stream",
     "text": [
      "[['-', 'john'], ['-', 'mary'], ['mary', 'edward'], ['edward', 'sam'], ['mary', 'emily'], ['mary', 'jaimie'], ['jaimie', 'tod'], ['edward', 'young']]\n",
      "{'young': 12, 'john': 4, 'tod': 2, 'emily': 5, 'mary': 10}\n",
      "{'john': 0, 'mary': 0, 'edward': 0, 'sam': 0, 'emily': 0, 'jaimie': 0, 'tod': 0, 'young': 0}\n",
      "2\n"
     ]
    }
   ],
   "source": [
    "enroll = [\"john\", \"mary\", \"edward\", \"sam\", \"emily\", \"jaimie\", \"tod\", \"young\"]\n",
    "referral = [\"-\", \"-\", \"mary\", \"edward\", \"mary\", \"mary\", \"jaimie\", \"edward\"]\n",
    "#인롤하고 리퍼럴 관계 부모 자식\n",
    "seller = [\"young\", \"john\", \"tod\", \"emily\", \"mary\"]\n",
    "amount = [12, 4, 2, 5, 10]\n",
    "N = len(enroll)\n",
    "\n",
    "#판매한 사람, 판매 개수\n",
    "seller_dict = {}\n",
    "for i in range(len(seller)):\n",
    "    seller_dict[seller[i]] = amount[i]\n",
    "\n",
    "#이익 담을 곳\n",
    "profit_dict = {}\n",
    "for i in range(N):\n",
    "    profit_dict[enroll[i]] = 0\n",
    "\n",
    "#부모 자식 관계 만들기\n",
    "root_child = []\n",
    "for i in range(N):\n",
    "    root_child.append([referral[i], enroll[i]])\n",
    "\n",
    "print(root_child)\n",
    "print(seller_dict)\n",
    "print(profit_dict)\n",
    "print(20//10)"
   ]
  }
 ],
 "metadata": {
  "kernelspec": {
   "display_name": "Python 3",
   "language": "python",
   "name": "python3"
  },
  "language_info": {
   "codemirror_mode": {
    "name": "ipython",
    "version": 3
   },
   "file_extension": ".py",
   "mimetype": "text/x-python",
   "name": "python",
   "nbconvert_exporter": "python",
   "pygments_lexer": "ipython3",
   "version": "3.9.13"
  }
 },
 "nbformat": 4,
 "nbformat_minor": 2
}
