{
 "cells": [
  {
   "cell_type": "code",
   "execution_count": 5,
   "metadata": {},
   "outputs": [
    {
     "name": "stdout",
     "output_type": "stream",
     "text": [
      "\n",
      "유진 \n",
      "효원 \n",
      "효원 유진 \n",
      "인영 \n",
      "인영 유진 \n",
      "인영 효원 \n",
      "인영 효원 유진 \n"
     ]
    }
   ],
   "source": [
    "p = ['인영','효원','유진']\n",
    "is_it = [False,True]\n",
    "who_come_with = []\n",
    "\n",
    "# 이 이름들을 검사할때 이름 리스트 수만큼 돌면서 트루면 출력\n",
    "def print_name():\n",
    "    for i in range(3):\n",
    "        if who_come_with[i] == True:\n",
    "            print(p[i], end=' ')\n",
    "    print()\n",
    "\n",
    "def run(lev):\n",
    "    if lev == 3:\n",
    "        print_name()\n",
    "        return\n",
    "\n",
    "    for i in range(2):\n",
    "        who_come_with.append(is_it[i])\n",
    "        run(lev+1)\n",
    "        who_come_with.pop()\n",
    "\n",
    "run(0)\n",
    "\n",
    "'''\n",
    "\n",
    "유진 \n",
    "효원 \n",
    "효원 유진 \n",
    "인영 \n",
    "인영 유진 \n",
    "인영 효원 \n",
    "인영 효원 유진 \n",
    "'''"
   ]
  },
  {
   "cell_type": "code",
   "execution_count": 9,
   "metadata": {},
   "outputs": [
    {
     "name": "stdout",
     "output_type": "stream",
     "text": [
      "b c "
     ]
    }
   ],
   "source": [
    "arr = ['a','b','c']\n",
    "n = len(arr)\n",
    "\n",
    "def recur(tar):\n",
    "    for i in range(n):\n",
    "        #tar은 불러온 숫자, 0x1은 16진수 전부 1임\n",
    "        #이 두개 중에 공통된 것만\n",
    "        if tar & 0x1:\n",
    "            print(arr[i], end=' ')\n",
    "        tar >>= 1\n",
    "\n",
    "recur(6)"
   ]
  },
  {
   "cell_type": "code",
   "execution_count": 10,
   "metadata": {},
   "outputs": [
    {
     "name": "stdout",
     "output_type": "stream",
     "text": [
      "\n",
      "a \n",
      "b \n",
      "a b \n",
      "c \n",
      "a c \n",
      "b c \n",
      "a b c \n"
     ]
    }
   ],
   "source": [
    "arr = ['a','b','c']\n",
    "n = len(arr)\n",
    "\n",
    "def recur(tar):\n",
    "    for i in range(n):\n",
    "        #tar은 불러온 숫자, 0x1은 16진수 전부 1임\n",
    "        #이 두개 중에 공통된 것만\n",
    "        if tar & 0x1:\n",
    "            print(arr[i], end=' ')\n",
    "        tar >>= 1\n",
    "\n",
    "#tar에 어떤 비트를 넣을 것인지.\n",
    "for tar in range(0, 1<<n):\n",
    "    recur(tar)\n",
    "    print()"
   ]
  },
  {
   "cell_type": "code",
   "execution_count": 22,
   "metadata": {},
   "outputs": [
    {
     "name": "stdout",
     "output_type": "stream",
     "text": [
      "['a', 'b'] 2\n",
      "['a', 'c'] 2\n",
      "['b', 'c'] 2\n",
      "['a', 'b', 'c'] 3\n",
      "['a', 'd'] 2\n",
      "['b', 'd'] 2\n",
      "['a', 'b', 'd'] 3\n",
      "['c', 'd'] 2\n",
      "['a', 'c', 'd'] 3\n",
      "['b', 'c', 'd'] 3\n",
      "['a', 'b', 'c', 'd'] 4\n",
      "['a', 'e'] 2\n",
      "['b', 'e'] 2\n",
      "['a', 'b', 'e'] 3\n",
      "['c', 'e'] 2\n",
      "['a', 'c', 'e'] 3\n",
      "['b', 'c', 'e'] 3\n",
      "['a', 'b', 'c', 'e'] 4\n",
      "['d', 'e'] 2\n",
      "['a', 'd', 'e'] 3\n",
      "['b', 'd', 'e'] 3\n",
      "['a', 'b', 'd', 'e'] 4\n",
      "['c', 'd', 'e'] 3\n",
      "['a', 'c', 'd', 'e'] 4\n",
      "['b', 'c', 'd', 'e'] 4\n",
      "['a', 'b', 'c', 'd', 'e'] 5\n"
     ]
    }
   ],
   "source": [
    "#부분 집합이 2개 이상인 것만 프린트\n",
    "arr = ['a','b','c','d','e']\n",
    "n = len(arr)\n",
    "\n",
    "def recur(tar):\n",
    "    cnt = 0     # 1의 개수를 셀 수 있다.\n",
    "    result = []\n",
    "    for i in range(n):\n",
    "        #tar은 불러온 숫자, 0x1은 16진수 전부 1임\n",
    "        #이 두개 중에 공통된 것만\n",
    "        if tar & 0x1:\n",
    "            cnt += 1\n",
    "            result += arr[i]\n",
    "        tar >>= 1\n",
    "    \n",
    "    if cnt >= 2:\n",
    "        print(result, cnt)\n",
    "\n",
    "\n",
    "#tar에 어떤 비트를 넣을 것인지.\n",
    "for tar in range(0, 1<<n):\n",
    "    recur(tar)"
   ]
  },
  {
   "cell_type": "code",
   "execution_count": 23,
   "metadata": {},
   "outputs": [
    {
     "name": "stdout",
     "output_type": "stream",
     "text": [
      "a b c\n",
      "a b d\n",
      "a b e\n",
      "a c d\n",
      "a c e\n",
      "a d e\n",
      "b c d\n",
      "b c e\n",
      "b d e\n",
      "c d e\n"
     ]
    }
   ],
   "source": [
    "arr = ['a','b','c','d','e']\n",
    "\n",
    "for a in range(5):\n",
    "    start1 = a+1\n",
    "    for b in range(start1, 5):\n",
    "        start2 = b+1\n",
    "        for c in range(start2, 5):\n",
    "            print(arr[a],arr[b],arr[c])"
   ]
  },
  {
   "cell_type": "code",
   "execution_count": 8,
   "metadata": {},
   "outputs": [
    {
     "name": "stdout",
     "output_type": "stream",
     "text": [
      "[1, 1, 1]\n",
      "[1, 1, 2]\n",
      "[1, 1, 3]\n",
      "[1, 1, 4]\n",
      "[1, 1, 5]\n",
      "[1, 1, 6]\n",
      "[1, 2, 2]\n",
      "[1, 2, 3]\n",
      "[1, 2, 4]\n",
      "[1, 2, 5]\n",
      "[1, 2, 6]\n",
      "[1, 3, 3]\n",
      "[1, 3, 4]\n",
      "[1, 3, 5]\n",
      "[1, 3, 6]\n",
      "[1, 4, 4]\n",
      "[1, 4, 5]\n",
      "[1, 4, 6]\n",
      "[1, 5, 5]\n",
      "[1, 5, 6]\n",
      "[2, 2, 2]\n",
      "[2, 2, 3]\n",
      "[2, 2, 4]\n",
      "[2, 2, 5]\n",
      "[2, 2, 6]\n",
      "[2, 3, 3]\n",
      "[2, 3, 4]\n",
      "[2, 3, 5]\n",
      "[2, 3, 6]\n",
      "[2, 4, 4]\n",
      "[2, 4, 5]\n",
      "[2, 4, 6]\n",
      "[2, 5, 5]\n",
      "[2, 5, 6]\n",
      "[3, 3, 3]\n",
      "[3, 3, 4]\n",
      "[3, 3, 5]\n",
      "[3, 3, 6]\n",
      "[3, 4, 4]\n",
      "[3, 4, 5]\n",
      "[3, 4, 6]\n",
      "[3, 5, 5]\n",
      "[3, 5, 6]\n",
      "[4, 4, 4]\n",
      "[4, 4, 5]\n",
      "[4, 4, 6]\n",
      "[4, 5, 5]\n",
      "[4, 5, 6]\n"
     ]
    }
   ],
   "source": [
    "arr = [1,2,3,4,5,6]\n",
    "path = []\n",
    "\n",
    "n = 6\n",
    "def run(lev, start, end):\n",
    "    if len(path) == 3:\n",
    "        print(path)\n",
    "        return\n",
    "    \n",
    "    for i in range(start, end):\n",
    "        path.append(arr[i])\n",
    "        run(lev+1, i, end+1)\n",
    "        path.pop()\n",
    "\n",
    "run(0,0,4)"
   ]
  },
  {
   "cell_type": "code",
   "execution_count": null,
   "metadata": {},
   "outputs": [],
   "source": [
    "arr = [1,2,3,4,5,6]\n",
    "path = []\n",
    "\n",
    "n = 6\n",
    "def run(lev, start):\n",
    "    if len(path) == 3:\n",
    "        print(f'당신이 던진 주사위는(～￣▽￣)～ 얍:', *path)\n",
    "        return\n",
    "    \n",
    "    for i in range(start, 6):\n",
    "        path.append(arr[i])\n",
    "        run(lev+1, i)\n",
    "        path.pop()\n",
    "\n",
    "run(0,0)"
   ]
  },
  {
   "cell_type": "code",
   "execution_count": 16,
   "metadata": {},
   "outputs": [
    {
     "name": "stdout",
     "output_type": "stream",
     "text": [
      "8\n"
     ]
    }
   ],
   "source": [
    "coin = [500,100,50,10]\n",
    "tar = 1730\n",
    "\n",
    "# 각 단계에서 최적해를 찾아야 한다.\n",
    "# 단계의 결과들을 합하는 방법을 찾아야 한다.\n",
    "# 각 단계의 합 == 전체 문제의 합이라는 것을 증명해야 한다.\n",
    "\n",
    "cnt = 0\n",
    "for c in coin:\n",
    "    possible = tar // c\n",
    "\n",
    "    cnt += possible\n",
    "    tar -= c * possible\n",
    "\n",
    "print(cnt)"
   ]
  },
  {
   "cell_type": "code",
   "execution_count": null,
   "metadata": {},
   "outputs": [],
   "source": [
    "# 특정 비트를 1로 설정(비트 set)\n",
    "num = 0b1010\n",
    "pos = 2 #오른쪽에서 세번째 비트\n",
    "\n",
    "result = num | (1 << pos)\n",
    "# (1 << pos) : 100\n",
    "print(bin(result)) # 0b1110"
   ]
  },
  {
   "cell_type": "code",
   "execution_count": null,
   "metadata": {},
   "outputs": [],
   "source": [
    "#특정 비트를 0으로 설정(비트 clear)\n",
    "num = 0b1010\n",
    "pos = 1 #오른쪽에서 두번째 비트\n",
    "\n",
    "result = num & ~(1 << pos)\n",
    "# ~(1 << pos) : 1101\n",
    "print(bin(result)) # 0b1110"
   ]
  },
  {
   "cell_type": "code",
   "execution_count": null,
   "metadata": {},
   "outputs": [],
   "source": [
    "#비트 토글 (0->1, 1->0)\n",
    "num = 0b1010\n",
    "pos = 1 #오른쪽에서 두번째 비트\n",
    "\n",
    "result = num ^ (1 << pos) #xor\n",
    "# ^(1 << pos) : 10\n",
    "print(bin(result)) # 0b1000\n",
    "\n",
    "result = result ^ (1 << pos) #xor\n",
    "# ^(1 << pos) : 10\n",
    "print(bin(result)) # 0b1010"
   ]
  },
  {
   "cell_type": "code",
   "execution_count": null,
   "metadata": {},
   "outputs": [],
   "source": [
    "#특정 자리의 비트가 1인지 확인\n",
    "num = 0b1010\n",
    "pos = 1 #오른쪽에서 두번째 비트\n",
    "\n",
    "result = num & (1 << pos) != 0\n",
    "# ^(1 << pos) : 10\n",
    "print(result) # True\n",
    "\n",
    "result = num & (1 << pos) == 0\n",
    "# ^(1 << pos) : 10\n",
    "print(result) # False"
   ]
  },
  {
   "cell_type": "code",
   "execution_count": 27,
   "metadata": {},
   "outputs": [
    {
     "name": "stdout",
     "output_type": "stream",
     "text": [
      "0010\n",
      "0100\n",
      "---------------------------------\n",
      "현재 숫자 0110\n",
      "0010\n",
      "0100\n"
     ]
    }
   ],
   "source": [
    "#가장 오른쪽에 있는 1인 비트값 얻기\n",
    "bin_num = 0b0110 #0010을 얻어야함\n",
    "#-bin_num = 1001(~) + 1 = 1010 #가장 오른쪽 1인 자리 제외 모두 0이 된다.\n",
    "#1을 더했는데 1010이 되는 이유는 이미 1인 자리에 1을 더하면 자리가 올라가서 1001이 아닌 1010이 된다.\n",
    "print(format(bin_num& -bin_num, '04b')) #0010\n",
    "\n",
    "#토글 (현재 위치의 값을 바꿈)\n",
    "cur_pos = bin_num & -bin_num\n",
    "print(format(bin_num ^ cur_pos, '04b')) #0100\n",
    "\n",
    "print('---------------------------------')\n",
    "print('현재 숫자', format(bin_num, '04b'))\n",
    "\n",
    "#비트값이 1이 남아있을 때까지 반복\n",
    "while bin_num:\n",
    "    cur_pos = bin_num & -bin_num\n",
    "    bin_num ^= cur_pos #현재 위치값 clear(0으로 바꿈)\n",
    "    print(format(cur_pos, '04b'))"
   ]
  },
  {
   "cell_type": "code",
   "execution_count": 30,
   "metadata": {},
   "outputs": [
    {
     "name": "stdout",
     "output_type": "stream",
     "text": [
      "0101\n",
      "0100\n"
     ]
    }
   ],
   "source": [
    "#가장 오른쪽에 있는 1인 비트 클리어 -> 0으로 바꾼다.\n",
    "bin_num = 0b0110 \n",
    "#bin_num - 1 = 해당 숫자의 가장 오른쪽에 있는 1의 비트를 0으로 바꾸고, 그 이후의 오른쪽 모든 0을 1로 바꾼다.\n",
    "print(format(bin_num-1, '04b')) #0101\n",
    "print(format(bin_num& (bin_num-1), '04b')) #0100"
   ]
  },
  {
   "cell_type": "code",
   "execution_count": 31,
   "metadata": {},
   "outputs": [
    {
     "name": "stdout",
     "output_type": "stream",
     "text": [
      "3\n"
     ]
    }
   ],
   "source": [
    "#비트에 있는 1의 개수 세기\n",
    "bin_num = 0b1010100\n",
    "\n",
    "cnt = 0\n",
    "while bin_num:\n",
    "    bin_num &= (bin_num - 1)\n",
    "    cnt += 1\n",
    "print(cnt)"
   ]
  },
  {
   "cell_type": "code",
   "execution_count": 32,
   "metadata": {},
   "outputs": [
    {
     "name": "stdout",
     "output_type": "stream",
     "text": [
      "what\n",
      "what 사과\n",
      "what 포도\n",
      "what 사과 포도\n",
      "what 바나나\n",
      "what 사과 바나나\n",
      "what 포도 바나나\n",
      "what 사과 포도 바나나\n"
     ]
    }
   ],
   "source": [
    "#부분집합\n",
    "N = 3\n",
    "f = ['사과','포도','바나나']\n",
    "\n",
    "#이 코드의 단점은 모든 for문을 돌아야한다,\n",
    "#1만 돌게 하면 좀 더 최적화된 코드를 구할 수 있다.\n",
    "for i in range(1<<N):\n",
    "    s = []\n",
    "    for j in range(N):\n",
    "        if i & (1<<j):\n",
    "            s.append(f[j])\n",
    "    print('what', *s)"
   ]
  },
  {
   "cell_type": "code",
   "execution_count": 38,
   "metadata": {},
   "outputs": [
    {
     "name": "stdout",
     "output_type": "stream",
     "text": [
      "['사과', '포도', '바나나']\n",
      "['사과', '바나나', '포도']\n",
      "['포도', '사과', '바나나']\n",
      "['포도', '바나나', '사과']\n",
      "['바나나', '사과', '포도']\n",
      "['바나나', '포도', '사과']\n"
     ]
    }
   ],
   "source": [
    "#특정 리스트의 순열\n",
    "def perm(idx):\n",
    "    if idx == N:\n",
    "        print(s)\n",
    "        return\n",
    "    \n",
    "    for j in range(N):\n",
    "        if not visited[j]:\n",
    "            visited[j] = 1\n",
    "            s[idx] = f[j]\n",
    "            perm(idx+1)\n",
    "            visited[j] = 0\n",
    "\n",
    "N = 3\n",
    "f = ['사과','포도','바나나']\n",
    "#이렇게 미리 할당해주면 더 빠르고 pop할 필요도 없다.\n",
    "s =[None] * N\n",
    "visited = [0] * N\n",
    "\n",
    "perm(0)"
   ]
  }
 ],
 "metadata": {
  "kernelspec": {
   "display_name": "Python 3",
   "language": "python",
   "name": "python3"
  },
  "language_info": {
   "codemirror_mode": {
    "name": "ipython",
    "version": 3
   },
   "file_extension": ".py",
   "mimetype": "text/x-python",
   "name": "python",
   "nbconvert_exporter": "python",
   "pygments_lexer": "ipython3",
   "version": "3.9.13"
  }
 },
 "nbformat": 4,
 "nbformat_minor": 2
}
