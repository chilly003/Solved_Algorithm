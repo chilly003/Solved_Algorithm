{
 "cells": [
  {
   "cell_type": "code",
   "execution_count": 1,
   "metadata": {},
   "outputs": [
    {
     "name": "stdout",
     "output_type": "stream",
     "text": [
      "0b1110\n"
     ]
    }
   ],
   "source": [
    "# 특정 비트를 1로 설정(비트 set)\n",
    "num = 0b1010\n",
    "pos = 2 #오른쪽에서 세번째 비트\n",
    "\n",
    "result = num | (1 << pos)\n",
    "# (1 << pos) : 100\n",
    "print(bin(result)) # 0b1110"
   ]
  },
  {
   "cell_type": "code",
   "execution_count": 2,
   "metadata": {},
   "outputs": [
    {
     "name": "stdout",
     "output_type": "stream",
     "text": [
      "0b1000\n"
     ]
    }
   ],
   "source": [
    "#특정 비트를 0으로 설정(비트 clear)\n",
    "num = 0b1010\n",
    "pos = 1 #오른쪽에서 두번째 비트\n",
    "\n",
    "result = num & ~(1 << pos)\n",
    "# ~(1 << pos) : 1101\n",
    "print(bin(result)) # 0b1110"
   ]
  },
  {
   "cell_type": "code",
   "execution_count": 3,
   "metadata": {},
   "outputs": [
    {
     "name": "stdout",
     "output_type": "stream",
     "text": [
      "0b1000\n",
      "0b1010\n"
     ]
    }
   ],
   "source": [
    "#비트 토글 (0->1, 1->0)\n",
    "num = 0b1010\n",
    "pos = 1 #오른쪽에서 두번째 비트\n",
    "\n",
    "result = num ^ (1 << pos) #xor\n",
    "# ^(1 << pos) : 10\n",
    "print(bin(result)) # 0b1000\n",
    "\n",
    "result = result ^ (1 << pos) #xor\n",
    "# ^(1 << pos) : 10\n",
    "print(bin(result)) # 0b1010"
   ]
  },
  {
   "cell_type": "code",
   "execution_count": 5,
   "metadata": {},
   "outputs": [
    {
     "name": "stdout",
     "output_type": "stream",
     "text": [
      "True\n",
      "False\n"
     ]
    }
   ],
   "source": [
    "#특정 자리의 비트가 1인지 확인\n",
    "num = 0b1010\n",
    "pos = 1 #오른쪽에서 두번째 비트\n",
    "\n",
    "result = num & (1 << pos) != 0\n",
    "# ^(1 << pos) : 10\n",
    "print(result) # True\n",
    "\n",
    "result = num & (1 << pos) == 0\n",
    "# ^(1 << pos) : 10\n",
    "print(result) # False"
   ]
  },
  {
   "cell_type": "code",
   "execution_count": 49,
   "metadata": {},
   "outputs": [
    {
     "name": "stdout",
     "output_type": "stream",
     "text": [
      "#1 0 116 12 7 76 24 58 121 124 103 3\n"
     ]
    }
   ],
   "source": [
    "def solution():   \n",
    "    #비효율그잡체 코드\n",
    "    num = '01D06079861D79F99F'\n",
    "    #먼저 16진수를 10진수로 바꾼다.\n",
    "    a = []\n",
    "    for i in num:\n",
    "        b = (int(i, 16))\n",
    "        a.append(bin(b)[2:])\n",
    "\n",
    "    # print(a)\n",
    "    #10진수를 2진수로 바꾼다.\n",
    "    #단 그냥 바꾸면 4자리로 안나오니 필요한 4자리가 되게 필요한 만큼의 0을 앞에 붙여준다.\n",
    "    for i in range(len(a)):\n",
    "        if len(a[i]) < 4:\n",
    "            a[i] = '0' * (4-len(a[i])) + a[i]\n",
    "\n",
    "    # print(a)\n",
    "\n",
    "    c = ''.join(a)\n",
    "\n",
    "    #7씩 슬라이싱해서 다시 10진수로 바꾼다.\n",
    "    d = []\n",
    "    for i in range(0,len(c),7):\n",
    "        # print(i)\n",
    "        d.append(int(c[i:i+7], 2))\n",
    "\n",
    "    return d\n",
    "\n",
    "if __name__ == '__main__':\n",
    "    print(f'#1', *solution())"
   ]
  },
  {
   "cell_type": "code",
   "execution_count": 87,
   "metadata": {},
   "outputs": [
    {
     "name": "stdout",
     "output_type": "stream",
     "text": [
      "['1', '1001', '110', '1110', '1011', '1100', '101', '1010', '11', '1', '110', '1100', '101', '111', '1000']\n",
      "000110010110111010111100010110100011000101101100010101111000\n",
      "0011001\n",
      "0110111\n",
      "0101111\n",
      "0001011\n",
      "0100011\n",
      "0001011\n",
      "0110001\n",
      "0101111\n",
      "[1, 8, 6, 9, 4, 9, 5, 6]\n"
     ]
    }
   ],
   "source": [
    "\n",
    "num = '196EBC5A316C578'\n",
    "    #먼저 16진수를 10진수로 바꾼다.\n",
    "    #10진수를 2진수로 바꿈\n",
    "a = []\n",
    "for i in num:\n",
    "    b = (int(i, 16))\n",
    "    a.append(bin(b)[2:])\n",
    "print(a)\n",
    "\n",
    "for i in range(len(a)):\n",
    "    if len(a[i]) < 4:\n",
    "        a[i] = '0' * (4-len(a[i])) + a[i]\n",
    "\n",
    "# for i in a:\n",
    "#     print(int(i, 2))\n",
    "code_dict = {'0001101': 0, '0011001': 1, '0010011': 2, '0111101': 3, '0100011': 4,\n",
    "                '0110001': 5, '0101111': 6, '0111011': 7, '0110111': 8, '0001011': 9}\n",
    "\n",
    "c = ''.join(a)\n",
    "print(c)\n",
    "\n",
    "d= []\n",
    "#idx는 이전 문제에서 찾은 것처럼 찾아야함.\n",
    "for i in range(1,len(c)-7,7):\n",
    "    d.append(code_dict[c[i:i+7]])\n",
    "    print(c[i:i+7])\n",
    "\n",
    "\n",
    "print(d)"
   ]
  },
  {
   "cell_type": "code",
   "execution_count": 96,
   "metadata": {},
   "outputs": [
    {
     "name": "stdout",
     "output_type": "stream",
     "text": [
      "5\n"
     ]
    }
   ],
   "source": [
    "a= [['00000000000000000000000000'], ['000000001DB176C588D26EC000']]\n",
    "# for i in range(len(a)):\n",
    "#     for j in range(len(a[i])):\n",
    "#         print()\n",
    "print(a[1][0][15])\n",
    "\n",
    "\n"
   ]
  }
 ],
 "metadata": {
  "kernelspec": {
   "display_name": "Python 3",
   "language": "python",
   "name": "python3"
  },
  "language_info": {
   "codemirror_mode": {
    "name": "ipython",
    "version": 3
   },
   "file_extension": ".py",
   "mimetype": "text/x-python",
   "name": "python",
   "nbconvert_exporter": "python",
   "pygments_lexer": "ipython3",
   "version": "3.9.13"
  }
 },
 "nbformat": 4,
 "nbformat_minor": 2
}
